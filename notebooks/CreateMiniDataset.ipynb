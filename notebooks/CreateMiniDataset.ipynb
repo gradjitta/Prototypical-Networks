{
 "cells": [
  {
   "cell_type": "code",
   "execution_count": null,
   "metadata": {},
   "outputs": [],
   "source": [
    "from sklearn.datasets import fetch_20newsgroups\n",
    "import spacy\n",
    "import pandas as pd\n",
    "import torch\n",
    "import seaborn as sns\n",
    "import argparse\n",
    "from fastprogress import progress_bar\n",
    "import pickle\n",
    "import numpy as np\n",
    "import os\n",
    "import random"
   ]
  },
  {
   "cell_type": "code",
   "execution_count": null,
   "metadata": {},
   "outputs": [],
   "source": [
    "newsgroups_train = fetch_20newsgroups(subset='train', remove=('headers', 'footers', 'quotes'))\n",
    "df = pd.DataFrame([newsgroups_train.data, newsgroups_train.target.tolist()]).T\n",
    "df.columns = ['text', 'target']\n",
    "texts = [' '.join(text.strip().split()) for text in df['text'].tolist()]\n",
    "\n",
    "df['text'] = texts\n",
    "df['text'].replace('', np.nan, inplace=True)\n",
    "df['text'].replace('--', np.nan, inplace=True)\n",
    "df.dropna(subset=['text'], inplace=True)"
   ]
  },
  {
   "cell_type": "code",
   "execution_count": null,
   "metadata": {},
   "outputs": [],
   "source": [
    "nlp = spacy.load('en_trf_bertbaseuncased_lg')"
   ]
  },
  {
   "cell_type": "code",
   "execution_count": null,
   "metadata": {},
   "outputs": [],
   "source": [
    "labels = df['target'].tolist() \n",
    "texts = df['text'].tolist()"
   ]
  },
  {
   "cell_type": "code",
   "execution_count": null,
   "metadata": {},
   "outputs": [],
   "source": [
    "mini_newsdict = {i:random.sample(list(np.where((np.array(labels) == i) == True )[0]),30) for i in range(20)}"
   ]
  },
  {
   "cell_type": "code",
   "execution_count": null,
   "metadata": {},
   "outputs": [],
   "source": [
    "mini_text_list = []\n",
    "mini_label_list = []\n",
    "for i in range(20):\n",
    "    id_list_ = mini_newsdict[i]\n",
    "    for idx in id_list_:\n",
    "        mini_label_list.append(i)\n",
    "        mini_text_list.append(texts[idx])\n",
    "        \n",
    "mini_df = pd.DataFrame()\n",
    "mini_df['text'] = mini_text_list\n",
    "mini_df['target'] = mini_label_list\n",
    "labels_mini = mini_df['target'].tolist()\n",
    "texts_mini = mini_df['text'].tolist()\n",
    "text_vectors = np.zeros((len(mini_df), 768))\n",
    "labels_vectors = []"
   ]
  },
  {
   "cell_type": "code",
   "execution_count": null,
   "metadata": {},
   "outputs": [],
   "source": [
    "#text_vectors = np.zeros((len(mini_df), 768))\n",
    "#labels_vectors = []\n",
    "for i in progress_bar(range(len(texts_mini))):\n",
    "    label = labels_mini[i]\n",
    "    text = texts_mini[i]\n",
    "    try:\n",
    "        text_vectors[i,:] = nlp(text.strip()).vector\n",
    "        labels_vectors.append(label)\n",
    "    except:\n",
    "        print(text)"
   ]
  },
  {
   "cell_type": "code",
   "execution_count": null,
   "metadata": {},
   "outputs": [],
   "source": [
    "pickle.dump(text_vectors, open('mini_newsgroup_vectors.pkl', \"wb\" ))\n",
    "pickle.dump(mini_df, open('mini_newsgroup_data.pkl', \"wb\" ))"
   ]
  }
 ],
 "metadata": {
  "kernelspec": {
   "display_name": "Python 3",
   "language": "python",
   "name": "python3"
  },
  "language_info": {
   "codemirror_mode": {
    "name": "ipython",
    "version": 3
   },
   "file_extension": ".py",
   "mimetype": "text/x-python",
   "name": "python",
   "nbconvert_exporter": "python",
   "pygments_lexer": "ipython3",
   "version": "3.7.3"
  }
 },
 "nbformat": 4,
 "nbformat_minor": 2
}
